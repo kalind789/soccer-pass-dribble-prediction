{
 "cells": [
  {
   "cell_type": "code",
   "execution_count": 5,
   "id": "a9082649-aee6-4efe-9db4-ae16a8460144",
   "metadata": {},
   "outputs": [
    {
     "data": {
      "text/plain": [
       "tensor([[0.8767, 0.4273, 0.9543],\n",
       "        [0.4320, 0.5837, 0.0681],\n",
       "        [0.1916, 0.7650, 0.4825],\n",
       "        [0.8589, 0.1618, 0.0579],\n",
       "        [0.1238, 0.3179, 0.6878]])"
      ]
     },
     "execution_count": 5,
     "metadata": {},
     "output_type": "execute_result"
    }
   ],
   "source": [
    "import torch\n",
    "\n",
    "x = torch.rand(5,3)\n",
    "x"
   ]
  },
  {
   "cell_type": "code",
   "execution_count": null,
   "id": "fecefdc5-77af-4006-91dd-5bd518e92c44",
   "metadata": {},
   "outputs": [],
   "source": []
  }
 ],
 "metadata": {
  "kernelspec": {
   "display_name": "Python 3 (ipykernel)",
   "language": "python",
   "name": "python3"
  },
  "language_info": {
   "codemirror_mode": {
    "name": "ipython",
    "version": 3
   },
   "file_extension": ".py",
   "mimetype": "text/x-python",
   "name": "python",
   "nbconvert_exporter": "python",
   "pygments_lexer": "ipython3",
   "version": "3.9.20"
  }
 },
 "nbformat": 4,
 "nbformat_minor": 5
}
