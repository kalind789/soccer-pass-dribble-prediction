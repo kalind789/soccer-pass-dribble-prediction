{
 "cells": [
  {
   "cell_type": "code",
   "execution_count": null,
   "id": "ced89b1c-13a6-4b90-8f94-7ae3edb97db0",
   "metadata": {},
   "outputs": [],
   "source": [
    "!pip install opencv-python # Only run once"
   ]
  },
  {
   "cell_type": "code",
   "execution_count": 1,
   "id": "815dce83-b579-4fb4-867c-84dc4f643fe6",
   "metadata": {},
   "outputs": [
    {
     "name": "stdout",
     "output_type": "stream",
     "text": [
      "success\n"
     ]
    }
   ],
   "source": [
    "# SETUP\n",
    "import cv2\n",
    "import os\n",
    "import numpy as np\n",
    "import csv\n",
    "import pandas as pd\n",
    "\n",
    "if cv2 and os:\n",
    "    print('success')"
   ]
  },
  {
   "cell_type": "code",
   "execution_count": 22,
   "id": "75c6665e-84fe-423d-851e-4b7667078c15",
   "metadata": {},
   "outputs": [],
   "source": [
    "# CREATE CLIPS\n",
    "# Inputs\n",
    "video_path = 'kai_video_2.mp4'\n",
    "output_dir = 'raw_clips'\n",
    "current_clip = 1400                          # name of clip at which to continue labeling, continue clip count from last batch,will determine clip names\n",
    "desired_additional_clips = 1000              # number of new clips we want to make\n",
    "start_time = 60                              # (in seconds) at what time in the video to start creating clips from\n",
    "target_clip = current_clip + desired_additional_clips"
   ]
  },
  {
   "cell_type": "code",
   "execution_count": null,
   "id": "73d232b8-ecf0-40a6-ba1e-1d90977c47c9",
   "metadata": {},
   "outputs": [],
   "source": [
    "os.makedirs(output_dir, exist_ok=True)\n",
    "cap = cv2.VideoCapture(video_path)\n",
    "fps = cap.get(cv2.CAP_PROP_FPS)\n",
    "clip_length = 1\n",
    "frame_count = 0\n",
    "cap.set(cv2.CAP_PROP_POS_MSEC, start_time * 1000)\n",
    "\n",
    "# Loop to extract clips\n",
    "while cap.isOpened() and current_clip < target_clip:\n",
    "    frames = []\n",
    "    # Extract frames for each clip\n",
    "    for _ in range(int(fps * clip_length)):  \n",
    "        ret, frame = cap.read()\n",
    "        if not ret:\n",
    "            break\n",
    "        frames.append(frame)\n",
    "\n",
    "    # Create clip file from captured frames\n",
    "    if frames:  # Check if any frames were captured\n",
    "        clip_path = os.path.join(output_dir, f\"clip_{current_clip:04d}.mp4\")\n",
    "        height, width, _ = frames[0].shape  # Get frame dimensions\n",
    "        out = cv2.VideoWriter(\n",
    "            clip_path, \n",
    "            cv2.VideoWriter_fourcc(*'mp4v'), \n",
    "            fps, \n",
    "            (width, height)\n",
    "        )\n",
    "        for frame in frames:\n",
    "            out.write(frame)\n",
    "        out.release()  # Release the writer\n",
    "        current_clip += 1\n",
    "\n",
    "    if not ret:\n",
    "        break\n",
    "\n",
    "cap.release()\n",
    "print(f\"Extracted {desired_additional_clips} new clips from {video_path}\")"
   ]
  },
  {
   "cell_type": "code",
   "execution_count": 2,
   "id": "4b9dc5ff-b2f7-491e-8fa1-d2d69f2e8af5",
   "metadata": {},
   "outputs": [],
   "source": [
    "# LABEL CLIPS\n",
    "# Inputs\n",
    "clip_dir = \"raw_clips\"\n",
    "output_csv = \"labels.csv\""
   ]
  },
  {
   "cell_type": "code",
   "execution_count": null,
   "id": "e7b65a49-48f8-45b8-aac4-6b48971500c2",
   "metadata": {},
   "outputs": [],
   "source": [
    "# Load existing labels into a set to avoid re-labeling\n",
    "labeled_clips = set()\n",
    "if os.path.exists(output_csv):\n",
    "    with open(output_csv, mode='r') as file:\n",
    "        reader = csv.reader(file)\n",
    "        try:\n",
    "            next(reader)  # Skip header row\n",
    "        except StopIteration:\n",
    "            pass  # CSV is empty, no header to skip\n",
    "        for row in reader:\n",
    "            labeled_clips.add(row[0])  # Add file_name to the set\n",
    "\n",
    "# Open the CSV file in append mode to add new labels\n",
    "with open(output_csv, mode='a', newline='') as file:\n",
    "    writer = csv.writer(file)\n",
    "\n",
    "    # Sort the clips in alphabetical/numerical order for consistency\n",
    "    clip_names = sorted(os.listdir(clip_dir))\n",
    "\n",
    "    # Loop through each clip, skipping already labeled ones\n",
    "    for clip_name in clip_names:\n",
    "        if clip_name in labeled_clips:\n",
    "            continue  # Skip already labeled clips\n",
    "\n",
    "        clip_path = os.path.join(clip_dir, clip_name)\n",
    "\n",
    "        # Open and play each clip for labeling\n",
    "        cap = cv2.VideoCapture(clip_path)\n",
    "        while cap.isOpened():\n",
    "            ret, frame = cap.read()\n",
    "            if not ret:\n",
    "                break\n",
    "            cv2.imshow(\"Clip\", frame)\n",
    "            if cv2.waitKey(30) & 0xFF == ord('q'):  # Press 'q' to move to the next clip\n",
    "                break\n",
    "\n",
    "        cap.release()\n",
    "        cv2.destroyAllWindows()\n",
    "\n",
    "        # Ask for label input (type \"pass\" or \"dribble\")\n",
    "        label = input(f\"Enter label for {clip_name} (pass/dribble): \").strip().lower()\n",
    "\n",
    "        # Write the file name and label to the CSV\n",
    "        writer.writerow([clip_name, label])\n",
    "\n",
    "print(\"Labeling complete. New labels added to \", output_csv)"
   ]
  },
  {
   "cell_type": "code",
   "execution_count": 21,
   "id": "9f24924a-ecb6-4f84-943a-adae3dbff62a",
   "metadata": {},
   "outputs": [
    {
     "name": "stdout",
     "output_type": "stream",
     "text": [
      "[2 0 1]\n",
      "(2155, 2)\n",
      "(999, 2)\n"
     ]
    }
   ],
   "source": [
    "# ANALYZE CLIP LABELS\n",
    "df = pd.read_csv(output_csv)\n",
    "\n",
    "print( df['label'].unique() )                                 # print label values\n",
    "print(df.shape)                                               # print raw shape\n",
    "# print( df.head() )                                          # preview data\n",
    "df['label'] = df['label'].astype(str).str.strip().str.lower() # normalize data, convert to string, lowercase etc\n",
    "df = df.drop(df[df['label'] == '2'].index)                    # prune invalid/void pass/dribble scenarios\n",
    "print( df.shape )                                             # print pruned df shape"
   ]
  },
  {
   "cell_type": "code",
   "execution_count": null,
   "id": "6f9369f3-faa3-469a-885d-f5840d2c5855",
   "metadata": {},
   "outputs": [],
   "source": []
  }
 ],
 "metadata": {
  "kernelspec": {
   "display_name": "Python 3 (ipykernel)",
   "language": "python",
   "name": "python3"
  },
  "language_info": {
   "codemirror_mode": {
    "name": "ipython",
    "version": 3
   },
   "file_extension": ".py",
   "mimetype": "text/x-python",
   "name": "python",
   "nbconvert_exporter": "python",
   "pygments_lexer": "ipython3",
   "version": "3.9.20"
  }
 },
 "nbformat": 4,
 "nbformat_minor": 5
}
