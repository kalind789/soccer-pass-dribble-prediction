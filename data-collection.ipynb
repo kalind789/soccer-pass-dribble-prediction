{
 "cells": [
  {
   "cell_type": "code",
   "execution_count": 2,
   "id": "ced89b1c-13a6-4b90-8f94-7ae3edb97db0",
   "metadata": {},
   "outputs": [
    {
     "name": "stdout",
     "output_type": "stream",
     "text": [
      "Collecting opencv-python\n",
      "  Downloading opencv_python-4.10.0.84-cp37-abi3-macosx_11_0_arm64.whl.metadata (20 kB)\n",
      "Requirement already satisfied: numpy>=1.21.2 in /opt/anaconda3/lib/python3.12/site-packages (from opencv-python) (1.26.4)\n",
      "Downloading opencv_python-4.10.0.84-cp37-abi3-macosx_11_0_arm64.whl (54.8 MB)\n",
      "\u001b[2K   \u001b[90m━━━━━━━━━━━━━━━━━━━━━━━━━━━━━━━━━━━━━━━━\u001b[0m \u001b[32m54.8/54.8 MB\u001b[0m \u001b[31m18.4 MB/s\u001b[0m eta \u001b[36m0:00:00\u001b[0m00:01\u001b[0m00:01\u001b[0m\n",
      "\u001b[?25hInstalling collected packages: opencv-python\n",
      "Successfully installed opencv-python-4.10.0.84\n"
     ]
    }
   ],
   "source": [
    "!pip install opencv-python"
   ]
  },
  {
   "cell_type": "code",
   "execution_count": 2,
   "id": "815dce83-b579-4fb4-867c-84dc4f643fe6",
   "metadata": {},
   "outputs": [
    {
     "name": "stdout",
     "output_type": "stream",
     "text": [
      "success\n"
     ]
    }
   ],
   "source": [
    "import cv2\n",
    "import os\n",
    "import numpy as np\n",
    "\n",
    "if cv2 and os:\n",
    "    print('success')"
   ]
  },
  {
   "cell_type": "code",
   "execution_count": 3,
   "id": "75c6665e-84fe-423d-851e-4b7667078c15",
   "metadata": {},
   "outputs": [
    {
     "ename": "FileExistsError",
     "evalue": "[Errno 17] File exists: 'raw_clips'",
     "output_type": "error",
     "traceback": [
      "\u001b[0;31m---------------------------------------------------------------------------\u001b[0m",
      "\u001b[0;31mFileExistsError\u001b[0m                           Traceback (most recent call last)",
      "Cell \u001b[0;32mIn[3], line 3\u001b[0m\n\u001b[1;32m      1\u001b[0m video_path \u001b[38;5;241m=\u001b[39m \u001b[38;5;124m'\u001b[39m\u001b[38;5;124mTHE CRAZIEST FINAL.mp4\u001b[39m\u001b[38;5;124m'\u001b[39m\n\u001b[1;32m      2\u001b[0m output_dir \u001b[38;5;241m=\u001b[39m \u001b[38;5;124m'\u001b[39m\u001b[38;5;124mraw_clips\u001b[39m\u001b[38;5;124m'\u001b[39m\n\u001b[0;32m----> 3\u001b[0m os\u001b[38;5;241m.\u001b[39mmakedirs(output_dir, exist_ok\u001b[38;5;241m=\u001b[39m\u001b[38;5;28;01mFalse\u001b[39;00m)\n",
      "File \u001b[0;32m<frozen os>:225\u001b[0m, in \u001b[0;36mmakedirs\u001b[0;34m(name, mode, exist_ok)\u001b[0m\n",
      "\u001b[0;31mFileExistsError\u001b[0m: [Errno 17] File exists: 'raw_clips'"
     ]
    }
   ],
   "source": [
    "video_path = 'compressed_final.mp4'\n",
    "output_dir = 'raw_clips'\n",
    "os.makedirs(output_dir, exist_ok=False)"
   ]
  },
  {
   "cell_type": "code",
   "execution_count": 11,
   "id": "1a000904-4b93-4990-b7d6-ccb9f3015f80",
   "metadata": {},
   "outputs": [],
   "source": [
    "cap = cv2.VideoCapture(video_path)\n",
    "fps = cap.get(cv2.CAP_PROP_FPS)\n",
    "clip_length = 1\n",
    "frame_count = 0\n",
    "clip_count = 300\n",
    "start_time = 200"
   ]
  },
  {
   "cell_type": "code",
   "execution_count": 12,
   "id": "73d232b8-ecf0-40a6-ba1e-1d90977c47c9",
   "metadata": {},
   "outputs": [
    {
     "name": "stdout",
     "output_type": "stream",
     "text": [
      "Extracted 300 new clips from THE CRAZIEST FINAL.mp4\n"
     ]
    }
   ],
   "source": [
    "cap.set(cv2.CAP_PROP_POS_MSEC, start_time * 1000)\n",
    "\n",
    "# Loop to extract clips\n",
    "while cap.isOpened() and clip_count < 600:  # Extract next 300 clips\n",
    "    frames = []\n",
    "    for _ in range(int(fps * clip_length)):  # Extract frames for each clip\n",
    "        ret, frame = cap.read()\n",
    "        if not ret:\n",
    "            break\n",
    "        frames.append(frame)\n",
    "\n",
    "    if frames:  # Check if any frames were captured\n",
    "        clip_path = os.path.join(output_dir, f\"clip_{clip_count:03d}.mp4\")\n",
    "        height, width, _ = frames[0].shape  # Get frame dimensions\n",
    "        out = cv2.VideoWriter(\n",
    "            clip_path, \n",
    "            cv2.VideoWriter_fourcc(*'mp4v'), \n",
    "            fps, \n",
    "            (width, height)\n",
    "        )\n",
    "        for frame in frames:\n",
    "            out.write(frame)\n",
    "        out.release()  # Release the writer\n",
    "        clip_count += 1\n",
    "\n",
    "    if not ret:\n",
    "        break\n",
    "\n",
    "cap.release()\n",
    "print(f\"Extracted {clip_count - 300} new clips from {video_path}\")"
   ]
  },
  {
   "cell_type": "code",
   "execution_count": 13,
   "id": "91c99a9c-ae49-4c32-99a0-806cca064d71",
   "metadata": {},
   "outputs": [],
   "source": [
    "import csv"
   ]
  },
  {
   "cell_type": "code",
   "execution_count": 7,
   "id": "185eef1a-4445-4757-9349-b2b471b9d3bc",
   "metadata": {},
   "outputs": [
    {
     "name": "stdout",
     "output_type": "stream",
     "text": [
      "Labeling complete. New labels added to labels.csv\n"
     ]
    }
   ],
   "source": [
    "clip_dir = \"raw_clips\"\n",
    "output_csv = \"labels.csv\"\n",
    "\n",
    "# Load existing labels into a set to avoid re-labeling\n",
    "labeled_clips = set()\n",
    "if os.path.exists(output_csv):\n",
    "    with open(output_csv, mode='r') as file:\n",
    "        reader = csv.reader(file)\n",
    "        next(reader)  # Skip header row\n",
    "        for row in reader:\n",
    "            labeled_clips.add(row[0])  # Add file_name to the set\n",
    "\n",
    "# Open the CSV file in append mode to add new labels\n",
    "with open(output_csv, mode='a', newline='') as file:\n",
    "    writer = csv.writer(file)\n",
    "\n",
    "    # Sort the clips in alphabetical/numerical order for consistency\n",
    "    clip_names = sorted(os.listdir(clip_dir))\n",
    "\n",
    "    # Loop through each clip, skipping already labeled ones\n",
    "    for clip_name in clip_names:\n",
    "        if clip_name in labeled_clips:\n",
    "            continue  # Skip already labeled clips\n",
    "\n",
    "        clip_path = os.path.join(clip_dir, clip_name)\n",
    "\n",
    "        # Open and play each clip for labeling\n",
    "        cap = cv2.VideoCapture(clip_path)\n",
    "        while cap.isOpened():\n",
    "            ret, frame = cap.read()\n",
    "            if not ret:\n",
    "                break\n",
    "            cv2.imshow(\"Clip\", frame)\n",
    "            if cv2.waitKey(30) & 0xFF == ord('q'):  # Press 'q' to move to the next clip\n",
    "                break\n",
    "\n",
    "        cap.release()\n",
    "        cv2.destroyAllWindows()\n",
    "\n",
    "        # Ask for label input (type \"pass\" or \"dribble\")\n",
    "        label = input(f\"Enter label for {clip_name} (pass/dribble): \").strip().lower()\n",
    "\n",
    "        # Write the file name and label to the CSV\n",
    "        writer.writerow([clip_name, label])\n",
    "\n",
    "print(\"Labeling complete. New labels added to\", output_csv)"
   ]
  },
  {
   "cell_type": "code",
   "execution_count": 8,
   "id": "9f24924a-ecb6-4f84-943a-adae3dbff62a",
   "metadata": {},
   "outputs": [
    {
     "data": {
      "text/plain": [
       "((300, 2),\n",
       "       file_name    label\n",
       " 0  clip_000.mp4     pass\n",
       " 1  clip_001.mp4  dribble\n",
       " 2  clip_002.mp4     pass\n",
       " 3  clip_003.mp4     pass\n",
       " 4  clip_004.mp4  dribble,\n",
       " array(['pass', 'dribble', 'none'], dtype=object))"
      ]
     },
     "execution_count": 8,
     "metadata": {},
     "output_type": "execute_result"
    }
   ],
   "source": [
    "import pandas as pd\n",
    "\n",
    "df = pd.read_csv(output_csv)\n",
    "df.shape, df.head(), df['label'].unique()\n"
   ]
  },
  {
   "cell_type": "code",
   "execution_count": 9,
   "id": "b7c63840-5407-43f2-9124-1be48026130b",
   "metadata": {},
   "outputs": [
    {
     "data": {
      "text/plain": [
       "(231, 2)"
      ]
     },
     "execution_count": 9,
     "metadata": {},
     "output_type": "execute_result"
    }
   ],
   "source": [
    "df = df.drop(df[df['label'] == 'none'].index)\n",
    "df.shape"
   ]
  },
  {
   "cell_type": "code",
   "execution_count": null,
   "id": "a4ee753a-a0b9-4c82-8d0f-25000deb1662",
   "metadata": {},
   "outputs": [],
   "source": []
  }
 ],
 "metadata": {
  "kernelspec": {
   "display_name": "Python 3 (ipykernel)",
   "language": "python",
   "name": "python3"
  },
  "language_info": {
   "codemirror_mode": {
    "name": "ipython",
    "version": 3
   },
   "file_extension": ".py",
   "mimetype": "text/x-python",
   "name": "python",
   "nbconvert_exporter": "python",
   "pygments_lexer": "ipython3",
   "version": "3.12.4"
  }
 },
 "nbformat": 4,
 "nbformat_minor": 5
}
