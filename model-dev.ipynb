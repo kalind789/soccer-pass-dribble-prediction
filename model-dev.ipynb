{
 "cells": [
  {
   "cell_type": "code",
   "execution_count": null,
   "id": "0b0d0648-3ef0-4b6f-830b-46fe4670baa5",
   "metadata": {},
   "outputs": [],
   "source": [
    "# Run once\n",
    "!pip install torch torchvision pytorchvideo opencv-python"
   ]
  },
  {
   "cell_type": "code",
   "execution_count": null,
   "id": "d0b886af-2217-40ec-a228-365c3e011bd3",
   "metadata": {},
   "outputs": [],
   "source": [
    "# SETUP\n",
    "from torchvision.models.video import slowfast_r50\n",
    "import torch.nn as nn\n",
    "import torch.optim as optim"
   ]
  },
  {
   "cell_type": "code",
   "execution_count": null,
   "id": "62b414b7-56d5-4373-8144-91c7388c9d03",
   "metadata": {},
   "outputs": [],
   "source": [
    "# SCRATCH/TESTS\n",
    "model = slowfast_r50(pretrained=True)\n",
    "print(model)"
   ]
  },
  {
   "cell_type": "code",
   "execution_count": null,
   "id": "864a482f-5c17-4cb8-8910-7894f6e5e088",
   "metadata": {},
   "outputs": [],
   "source": [
    "# PRE-PROCESS DATA\n",
    "\n",
    "# Resize clips to a consistent resolution (eg 224 x 224)\n",
    "\n",
    "# Convert clips to frame sequences and normalize pixel values\n",
    "\n",
    "# Sample frames for the Slow and Fast pathways (e.g., one frame every 8 for Slow and every 2 for Fast) "
   ]
  },
  {
   "cell_type": "code",
   "execution_count": null,
   "id": "58a9c5ab-cb60-40dd-86e9-0f35d0b305ed",
   "metadata": {},
   "outputs": [],
   "source": [
    "# SPLIT DATA\n",
    "# Use 70/10/10 for train/test/validation sets respectively\n"
   ]
  },
  {
   "cell_type": "code",
   "execution_count": null,
   "id": "28dfe187-7040-4696-926a-a9103aa083cc",
   "metadata": {},
   "outputs": [],
   "source": [
    "# EVALUATE BASELINE MODEL PERFORMANCE (test set)\n",
    "#initialize baseline model\n",
    "#freeze feature extraction layers / turn off requires_grad \n",
    "#replace final layer with a binary classification layer (single neuron for pass/dribble)\n",
    "#train for 3 epochs\n",
    "#test accuracy"
   ]
  },
  {
   "cell_type": "code",
   "execution_count": null,
   "id": "5afd3586-5a69-4ec5-9256-104c778838d9",
   "metadata": {},
   "outputs": [],
   "source": [
    "# FINE-TUNE MODEL"
   ]
  },
  {
   "cell_type": "code",
   "execution_count": null,
   "id": "7556202f-e4a0-4edb-a013-b7ff37b7da98",
   "metadata": {},
   "outputs": [],
   "source": [
    "# EVALUATE FINE-TUNED MODEL PERFORMANCE (test set)"
   ]
  },
  {
   "cell_type": "code",
   "execution_count": null,
   "id": "40f40474-c461-4663-b261-a984bf8d20a4",
   "metadata": {},
   "outputs": [],
   "source": [
    "# EVALUTE FINE-TUNED MODEL GENERALIZATION PERFORMANCE (validation set)"
   ]
  },
  {
   "cell_type": "code",
   "execution_count": null,
   "id": "824958ba-1874-4c7d-80f9-d8468b2c118c",
   "metadata": {},
   "outputs": [],
   "source": [
    "# Classify a single clip"
   ]
  }
 ],
 "metadata": {
  "kernelspec": {
   "display_name": "Python 3 (ipykernel)",
   "language": "python",
   "name": "python3"
  },
  "language_info": {
   "codemirror_mode": {
    "name": "ipython",
    "version": 3
   },
   "file_extension": ".py",
   "mimetype": "text/x-python",
   "name": "python",
   "nbconvert_exporter": "python",
   "pygments_lexer": "ipython3",
   "version": "3.9.20"
  }
 },
 "nbformat": 4,
 "nbformat_minor": 5
}
